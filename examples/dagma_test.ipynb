{
 "cells": [
  {
   "attachments": {},
   "cell_type": "markdown",
   "metadata": {},
   "source": [
    "### Import packages"
   ]
  },
  {
   "cell_type": "code",
   "execution_count": 2,
   "metadata": {},
   "outputs": [
    {
     "ename": "ModuleNotFoundError",
     "evalue": "No module named 'dagma'",
     "output_type": "error",
     "traceback": [
      "\u001b[0;31m---------------------------------------------------------------------------\u001b[0m",
      "\u001b[0;31mModuleNotFoundError\u001b[0m                       Traceback (most recent call last)",
      "Cell \u001b[0;32mIn[2], line 3\u001b[0m\n\u001b[1;32m      1\u001b[0m \u001b[38;5;28;01mimport\u001b[39;00m \u001b[38;5;21;01mtorch\u001b[39;00m\n\u001b[1;32m      2\u001b[0m \u001b[38;5;28;01mimport\u001b[39;00m \u001b[38;5;21;01msys\u001b[39;00m\n\u001b[0;32m----> 3\u001b[0m \u001b[38;5;28;01mfrom\u001b[39;00m \u001b[38;5;21;01mdagma\u001b[39;00m \u001b[38;5;28;01mimport\u001b[39;00m utils\n\u001b[1;32m      4\u001b[0m \u001b[38;5;28;01mfrom\u001b[39;00m \u001b[38;5;21;01mdagma\u001b[39;00m\u001b[38;5;21;01m.\u001b[39;00m\u001b[38;5;21;01mlinear\u001b[39;00m \u001b[38;5;28;01mimport\u001b[39;00m DagmaLinear\n\u001b[1;32m      5\u001b[0m \u001b[38;5;28;01mfrom\u001b[39;00m \u001b[38;5;21;01mdagma\u001b[39;00m\u001b[38;5;21;01m.\u001b[39;00m\u001b[38;5;21;01mnonlinear\u001b[39;00m \u001b[38;5;28;01mimport\u001b[39;00m DagmaMLP, DagmaNonlinear\n",
      "\u001b[0;31mModuleNotFoundError\u001b[0m: No module named 'dagma'"
     ]
    }
   ],
   "source": [
    "import torch\n",
    "import sys\n",
    "from dagma import utils\n",
    "from dagma.linear import DagmaLinear\n",
    "from dagma.nonlinear import DagmaMLP, DagmaNonlinear"
   ]
  },
  {
   "attachments": {},
   "cell_type": "markdown",
   "metadata": {},
   "source": [
    "### Generate data"
   ]
  },
  {
   "cell_type": "code",
   "execution_count": null,
   "metadata": {},
   "outputs": [
    {
     "ename": "NameError",
     "evalue": "name 'utils' is not defined",
     "output_type": "error",
     "traceback": [
      "\u001b[0;31m---------------------------------------------------------------------------\u001b[0m",
      "\u001b[0;31mNameError\u001b[0m                                 Traceback (most recent call last)",
      "Cell \u001b[0;32mIn[7], line 1\u001b[0m\n\u001b[0;32m----> 1\u001b[0m \u001b[43mutils\u001b[49m\u001b[38;5;241m.\u001b[39mset_random_seed(\u001b[38;5;241m1\u001b[39m)\n\u001b[1;32m      2\u001b[0m \u001b[38;5;66;03m# Create an Erdos-Renyi DAG of 20 nodes and 20 edges in expectation with Gaussian noise\u001b[39;00m\n\u001b[1;32m      3\u001b[0m \u001b[38;5;66;03m# number of samples n = 500\u001b[39;00m\n\u001b[1;32m      4\u001b[0m n, d, s0 \u001b[38;5;241m=\u001b[39m \u001b[38;5;241m500\u001b[39m, \u001b[38;5;241m20\u001b[39m, \u001b[38;5;241m20\u001b[39m \n",
      "\u001b[0;31mNameError\u001b[0m: name 'utils' is not defined"
     ]
    }
   ],
   "source": [
    "utils.set_random_seed(1)\n",
    "# Create an Erdos-Renyi DAG of 20 nodes and 20 edges in expectation with Gaussian noise\n",
    "# number of samples n = 500\n",
    "n, d, s0 = 500, 20, 20 \n",
    "graph_type, sem_type = 'ER', 'gauss'\n",
    "\n",
    "B_true = utils.simulate_dag(d, s0, graph_type)\n",
    "W_true = utils.simulate_parameter(B_true)\n",
    "X = utils.simulate_linear_sem(W_true, n, sem_type)"
   ]
  },
  {
   "attachments": {},
   "cell_type": "markdown",
   "metadata": {},
   "source": [
    "### Test Linear Model"
   ]
  },
  {
   "cell_type": "code",
   "execution_count": null,
   "metadata": {},
   "outputs": [
    {
     "ename": "NameError",
     "evalue": "name 'DagmaLinear' is not defined",
     "output_type": "error",
     "traceback": [
      "\u001b[0;31m---------------------------------------------------------------------------\u001b[0m",
      "\u001b[0;31mNameError\u001b[0m                                 Traceback (most recent call last)",
      "Cell \u001b[0;32mIn[8], line 1\u001b[0m\n\u001b[0;32m----> 1\u001b[0m model \u001b[38;5;241m=\u001b[39m \u001b[43mDagmaLinear\u001b[49m(loss_type\u001b[38;5;241m=\u001b[39m\u001b[38;5;124m'\u001b[39m\u001b[38;5;124ml2\u001b[39m\u001b[38;5;124m'\u001b[39m) \u001b[38;5;66;03m# create a linear model with least squares loss\u001b[39;00m\n\u001b[1;32m      2\u001b[0m W_est \u001b[38;5;241m=\u001b[39m model\u001b[38;5;241m.\u001b[39mfit(X, lambda1\u001b[38;5;241m=\u001b[39m\u001b[38;5;241m0.02\u001b[39m) \u001b[38;5;66;03m# fit the model with L1 reg. (coeff. 0.02)\u001b[39;00m\n\u001b[1;32m      3\u001b[0m acc \u001b[38;5;241m=\u001b[39m utils\u001b[38;5;241m.\u001b[39mcount_accuracy(B_true, W_est \u001b[38;5;241m!=\u001b[39m \u001b[38;5;241m0\u001b[39m) \u001b[38;5;66;03m# compute metrics of estimated adjacency matrix W_est with ground-truth\u001b[39;00m\n",
      "\u001b[0;31mNameError\u001b[0m: name 'DagmaLinear' is not defined"
     ]
    }
   ],
   "source": [
    "model = DagmaLinear(loss_type='l2') # create a linear model with least squares loss\n",
    "W_est = model.fit(X, lambda1=0.02) # fit the model with L1 reg. (coeff. 0.02)\n",
    "acc = utils.count_accuracy(B_true, W_est != 0) # compute metrics of estimated adjacency matrix W_est with ground-truth\n",
    "print(acc)"
   ]
  },
  {
   "attachments": {},
   "cell_type": "markdown",
   "metadata": {},
   "source": [
    "### Test Nonlinear Model"
   ]
  },
  {
   "cell_type": "code",
   "execution_count": null,
   "metadata": {},
   "outputs": [
    {
     "data": {
      "application/vnd.jupyter.widget-view+json": {
       "model_id": "02c77ea8a2214cf494e499a50433b7f2",
       "version_major": 2,
       "version_minor": 0
      },
      "text/plain": [
       "  0%|          | 0/230000.0 [00:00<?, ?it/s]"
      ]
     },
     "metadata": {},
     "output_type": "display_data"
    },
    {
     "name": "stdout",
     "output_type": "stream",
     "text": [
      "{'fdr': 0.0, 'tpr': 1.0, 'fpr': 0.0, 'shd': 0, 'nnz': 20}\n"
     ]
    }
   ],
   "source": [
    "# note: using torch.double instead of torch.float gives better result for larger num of nodes\n",
    "eq_model = DagmaMLP(dims=[d, 10, 1], bias=True, dtype=torch.double) # create the model for the structural equations, in this case MLPs\n",
    "model = DagmaNonlinear(eq_model, dtype=torch.double) # create the model for DAG learning\n",
    "W_est = model.fit(X, lambda1=0.02, lambda2=0.005) # fit the model with L1 reg. (coeff. 0.02) and L2 reg. (coeff. 0.005)\n",
    "acc = utils.count_accuracy(B_true, W_est != 0) # compute metrics of estimated adjacency matrix W_est with ground-truth\n",
    "print(acc)"
   ]
  }
 ],
 "metadata": {
  "kernelspec": {
   "display_name": "Python 3",
   "language": "python",
   "name": "python3"
  },
  "language_info": {
   "codemirror_mode": {
    "name": "ipython",
    "version": 3
   },
   "file_extension": ".py",
   "mimetype": "text/x-python",
   "name": "python",
   "nbconvert_exporter": "python",
   "pygments_lexer": "ipython3",
   "version": "3.10.14"
  },
  "orig_nbformat": 4
 },
 "nbformat": 4,
 "nbformat_minor": 2
}
